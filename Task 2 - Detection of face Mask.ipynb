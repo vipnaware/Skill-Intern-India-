{
 "cells": [
  {
   "cell_type": "code",
   "execution_count": 48,
   "id": "7b00a013",
   "metadata": {},
   "outputs": [],
   "source": [
    "import os\n",
    "import numpy as np\n",
    "import matplotlib.pyplot as plt\n",
    "import matplotlib.image as mpimg\n",
    "import cv2\n",
    "from PIL import Image \n",
    "from sklearn.model_selection import train_test_split"
   ]
  },
  {
   "cell_type": "code",
   "execution_count": 49,
   "id": "c4b6e8a5",
   "metadata": {},
   "outputs": [
    {
     "name": "stdout",
     "output_type": "stream",
     "text": [
      "['with_mask_1.jpg', 'with_mask_10.jpg', 'with_mask_100.jpg', 'with_mask_1000.jpg', 'with_mask_1001.jpg']\n",
      "['with_mask_995.jpg', 'with_mask_996.jpg', 'with_mask_997.jpg', 'with_mask_998.jpg', 'with_mask_999.jpg']\n"
     ]
    }
   ],
   "source": [
    "mask_files = os.listdir('with_mask')\n",
    "print(mask_files[0:5])\n",
    "print(mask_files[-5:])"
   ]
  },
  {
   "cell_type": "code",
   "execution_count": 50,
   "id": "4889be72",
   "metadata": {},
   "outputs": [
    {
     "name": "stdout",
     "output_type": "stream",
     "text": [
      "['without_mask_1.jpg', 'without_mask_10.jpg', 'without_mask_100.jpg', 'without_mask_1000.jpg', 'without_mask_1001.jpg']\n",
      "['without_mask_995.jpg', 'without_mask_996.jpg', 'without_mask_997.jpg', 'without_mask_998.jpg', 'without_mask_999.jpg']\n"
     ]
    }
   ],
   "source": [
    "nomask_files = os.listdir('without_mask')\n",
    "print(nomask_files[0:5])\n",
    "print(nomask_files[-5:])"
   ]
  },
  {
   "cell_type": "code",
   "execution_count": 51,
   "id": "66275e0a",
   "metadata": {},
   "outputs": [
    {
     "name": "stdout",
     "output_type": "stream",
     "text": [
      "Number of with mask images:3725\n",
      "Number of without mask images:3828\n"
     ]
    }
   ],
   "source": [
    "print(f'Number of with mask images:{len(mask_files)}')\n",
    "print(f'Number of without mask images:{len(nomask_files)}')"
   ]
  },
  {
   "cell_type": "code",
   "execution_count": 52,
   "id": "990308c8",
   "metadata": {},
   "outputs": [],
   "source": [
    "# create the labels\n",
    "\n",
    "mask_files = [1]*3725\n",
    "nomask_files = [0]*3828"
   ]
  },
  {
   "cell_type": "code",
   "execution_count": 53,
   "id": "d5dd8fdb",
   "metadata": {},
   "outputs": [
    {
     "name": "stdout",
     "output_type": "stream",
     "text": [
      "[1, 1, 1, 1, 1]\n",
      "[0, 0, 0, 0, 0]\n"
     ]
    },
    {
     "data": {
      "text/plain": [
       "(None, None)"
      ]
     },
     "execution_count": 53,
     "metadata": {},
     "output_type": "execute_result"
    }
   ],
   "source": [
    "print(mask_files[0:5]),print(nomask_files[0:5])"
   ]
  },
  {
   "cell_type": "code",
   "execution_count": 54,
   "id": "fe194d4a",
   "metadata": {},
   "outputs": [
    {
     "name": "stdout",
     "output_type": "stream",
     "text": [
      "3725\n",
      "3828\n"
     ]
    },
    {
     "data": {
      "text/plain": [
       "(None, None)"
      ]
     },
     "execution_count": 54,
     "metadata": {},
     "output_type": "execute_result"
    }
   ],
   "source": [
    "print(len(mask_files)),print(len(nomask_files))"
   ]
  },
  {
   "cell_type": "code",
   "execution_count": 55,
   "id": "bedf643e",
   "metadata": {},
   "outputs": [
    {
     "name": "stdout",
     "output_type": "stream",
     "text": [
      "7553\n",
      "[1, 1, 1, 1, 1]\n",
      "[0, 0, 0, 0, 0]\n"
     ]
    }
   ],
   "source": [
    "labels = mask_files + nomask_files\n",
    "print(len(labels))\n",
    "print(labels[0:5])\n",
    "print(labels[-5:])"
   ]
  },
  {
   "cell_type": "code",
   "execution_count": 56,
   "id": "1700097d",
   "metadata": {},
   "outputs": [],
   "source": [
    "with_mask_path = 'with_mask/'\n",
    "mask_files = os.listdir(with_mask_path)\n",
    "\n",
    "data = []\n",
    "\n",
    "for img_file in mask_files:\n",
    "\n",
    "  image = Image.open(with_mask_path + str(img_file))\n",
    "  image = image.resize((128,128))\n",
    "  image = image.convert('RGB')\n",
    "  image = np.array(image)\n",
    "  data.append(image)\n",
    "\n",
    "\n",
    "\n",
    "without_mask_path = 'without_mask/'\n",
    "nomask_files = os.listdir(without_mask_path)\n",
    "\n",
    "for img_file in nomask_files:\n",
    "\n",
    "  image = Image.open(without_mask_path + str(img_file))\n",
    "  image = image.resize((128,128))\n",
    "  image = image.convert('RGB')\n",
    "  image = np.array(image)\n",
    "  data.append(image)"
   ]
  },
  {
   "cell_type": "code",
   "execution_count": 57,
   "id": "acf7f272",
   "metadata": {},
   "outputs": [
    {
     "data": {
      "text/plain": [
       "(list, 7553)"
      ]
     },
     "execution_count": 57,
     "metadata": {},
     "output_type": "execute_result"
    }
   ],
   "source": [
    "type(data),len(data)"
   ]
  },
  {
   "cell_type": "code",
   "execution_count": 58,
   "id": "785a715d",
   "metadata": {},
   "outputs": [
    {
     "data": {
      "text/plain": [
       "array([[[50, 58, 31],\n",
       "        [46, 54, 34],\n",
       "        [56, 59, 42],\n",
       "        ...,\n",
       "        [26, 32, 25],\n",
       "        [29, 33, 18],\n",
       "        [34, 40, 16]],\n",
       "\n",
       "       [[47, 55, 30],\n",
       "        [49, 57, 37],\n",
       "        [59, 63, 40],\n",
       "        ...,\n",
       "        [18, 21, 11],\n",
       "        [38, 42, 31],\n",
       "        [31, 41, 22]],\n",
       "\n",
       "       [[52, 58, 37],\n",
       "        [50, 59, 38],\n",
       "        [59, 64, 36],\n",
       "        ...,\n",
       "        [45, 44, 30],\n",
       "        [29, 35, 28],\n",
       "        [20, 30, 17]],\n",
       "\n",
       "       ...,\n",
       "\n",
       "       [[63, 72, 37],\n",
       "        [66, 76, 41],\n",
       "        [74, 84, 50],\n",
       "        ...,\n",
       "        [ 5,  4,  0],\n",
       "        [20, 19, 15],\n",
       "        [17, 17, 12]],\n",
       "\n",
       "       [[59, 71, 34],\n",
       "        [60, 70, 39],\n",
       "        [68, 76, 50],\n",
       "        ...,\n",
       "        [16, 15, 12],\n",
       "        [15, 13, 10],\n",
       "        [13,  9,  7]],\n",
       "\n",
       "       [[53, 69, 29],\n",
       "        [54, 64, 37],\n",
       "        [57, 63, 43],\n",
       "        ...,\n",
       "        [18, 18, 16],\n",
       "        [16, 13, 12],\n",
       "        [20, 12, 13]]], dtype=uint8)"
      ]
     },
     "execution_count": 58,
     "metadata": {},
     "output_type": "execute_result"
    }
   ],
   "source": [
    "data[0]"
   ]
  },
  {
   "cell_type": "code",
   "execution_count": 59,
   "id": "69840e85",
   "metadata": {},
   "outputs": [
    {
     "data": {
      "text/plain": [
       "(numpy.ndarray, (128, 128, 3))"
      ]
     },
     "execution_count": 59,
     "metadata": {},
     "output_type": "execute_result"
    }
   ],
   "source": [
    "type(data[0]),data[0].shape"
   ]
  },
  {
   "cell_type": "code",
   "execution_count": 60,
   "id": "6c711017",
   "metadata": {},
   "outputs": [],
   "source": [
    " #converting image list and label list to numpy arrays\n",
    "\n",
    "x = np.array(data)\n",
    "y = np.array(labels)"
   ]
  },
  {
   "cell_type": "code",
   "execution_count": 61,
   "id": "7d481df9",
   "metadata": {},
   "outputs": [],
   "source": [
    "x_train,x_test,y_train,y_test = train_test_split(x,y,test_size=0.2,random_state=42)"
   ]
  },
  {
   "cell_type": "code",
   "execution_count": 62,
   "id": "a682dd5a",
   "metadata": {},
   "outputs": [
    {
     "name": "stdout",
     "output_type": "stream",
     "text": [
      "(7553, 128, 128, 3) (6042, 128, 128, 3) (1511, 128, 128, 3)\n"
     ]
    }
   ],
   "source": [
    "print(x.shape, x_train.shape, x_test.shape)"
   ]
  },
  {
   "cell_type": "code",
   "execution_count": 63,
   "id": "8507ddf2",
   "metadata": {},
   "outputs": [],
   "source": [
    "# scaling the data\n",
    "\n",
    "x_train_scaled = x_train/255\n",
    "x_test_scaled = x_test/255"
   ]
  },
  {
   "cell_type": "code",
   "execution_count": 64,
   "id": "c8e8031b",
   "metadata": {},
   "outputs": [
    {
     "data": {
      "text/plain": [
       "(array([[[ 40,  17,  13],\n",
       "         [ 42,  18,  14],\n",
       "         [ 46,  20,  16],\n",
       "         ...,\n",
       "         [ 45,  29,  30],\n",
       "         [ 44,  29,  32],\n",
       "         [ 44,  29,  32]],\n",
       " \n",
       "        [[ 44,  18,  15],\n",
       "         [ 47,  21,  17],\n",
       "         [ 54,  25,  21],\n",
       "         ...,\n",
       "         [ 45,  30,  31],\n",
       "         [ 44,  29,  32],\n",
       "         [ 44,  29,  32]],\n",
       " \n",
       "        [[ 53,  23,  18],\n",
       "         [ 58,  27,  22],\n",
       "         [ 69,  36,  30],\n",
       "         ...,\n",
       "         [ 44,  29,  30],\n",
       "         [ 43,  28,  31],\n",
       "         [ 43,  28,  31]],\n",
       " \n",
       "        ...,\n",
       " \n",
       "        [[138, 186, 165],\n",
       "         [135, 186, 164],\n",
       "         [127, 182, 161],\n",
       "         ...,\n",
       "         [177, 120, 111],\n",
       "         [179, 122, 112],\n",
       "         [181, 123, 114]],\n",
       " \n",
       "        [[153, 189, 171],\n",
       "         [150, 189, 170],\n",
       "         [145, 188, 168],\n",
       "         ...,\n",
       "         [176, 119, 108],\n",
       "         [178, 121, 109],\n",
       "         [178, 121, 110]],\n",
       " \n",
       "        [[158, 196, 177],\n",
       "         [155, 196, 178],\n",
       "         [151, 196, 176],\n",
       "         ...,\n",
       "         [174, 117, 106],\n",
       "         [175, 118, 107],\n",
       "         [175, 118, 107]]], dtype=uint8),\n",
       " array([[[0.15686275, 0.06666667, 0.05098039],\n",
       "         [0.16470588, 0.07058824, 0.05490196],\n",
       "         [0.18039216, 0.07843137, 0.0627451 ],\n",
       "         ...,\n",
       "         [0.17647059, 0.11372549, 0.11764706],\n",
       "         [0.17254902, 0.11372549, 0.1254902 ],\n",
       "         [0.17254902, 0.11372549, 0.1254902 ]],\n",
       " \n",
       "        [[0.17254902, 0.07058824, 0.05882353],\n",
       "         [0.18431373, 0.08235294, 0.06666667],\n",
       "         [0.21176471, 0.09803922, 0.08235294],\n",
       "         ...,\n",
       "         [0.17647059, 0.11764706, 0.12156863],\n",
       "         [0.17254902, 0.11372549, 0.1254902 ],\n",
       "         [0.17254902, 0.11372549, 0.1254902 ]],\n",
       " \n",
       "        [[0.20784314, 0.09019608, 0.07058824],\n",
       "         [0.22745098, 0.10588235, 0.08627451],\n",
       "         [0.27058824, 0.14117647, 0.11764706],\n",
       "         ...,\n",
       "         [0.17254902, 0.11372549, 0.11764706],\n",
       "         [0.16862745, 0.10980392, 0.12156863],\n",
       "         [0.16862745, 0.10980392, 0.12156863]],\n",
       " \n",
       "        ...,\n",
       " \n",
       "        [[0.54117647, 0.72941176, 0.64705882],\n",
       "         [0.52941176, 0.72941176, 0.64313725],\n",
       "         [0.49803922, 0.71372549, 0.63137255],\n",
       "         ...,\n",
       "         [0.69411765, 0.47058824, 0.43529412],\n",
       "         [0.70196078, 0.47843137, 0.43921569],\n",
       "         [0.70980392, 0.48235294, 0.44705882]],\n",
       " \n",
       "        [[0.6       , 0.74117647, 0.67058824],\n",
       "         [0.58823529, 0.74117647, 0.66666667],\n",
       "         [0.56862745, 0.7372549 , 0.65882353],\n",
       "         ...,\n",
       "         [0.69019608, 0.46666667, 0.42352941],\n",
       "         [0.69803922, 0.4745098 , 0.42745098],\n",
       "         [0.69803922, 0.4745098 , 0.43137255]],\n",
       " \n",
       "        [[0.61960784, 0.76862745, 0.69411765],\n",
       "         [0.60784314, 0.76862745, 0.69803922],\n",
       "         [0.59215686, 0.76862745, 0.69019608],\n",
       "         ...,\n",
       "         [0.68235294, 0.45882353, 0.41568627],\n",
       "         [0.68627451, 0.4627451 , 0.41960784],\n",
       "         [0.68627451, 0.4627451 , 0.41960784]]]))"
      ]
     },
     "execution_count": 64,
     "metadata": {},
     "output_type": "execute_result"
    }
   ],
   "source": [
    "x_train[0],x_train_scaled[0]"
   ]
  },
  {
   "cell_type": "code",
   "execution_count": 65,
   "id": "25df47bf",
   "metadata": {},
   "outputs": [],
   "source": [
    "import tensorflow as tf\n",
    "from tensorflow import keras"
   ]
  },
  {
   "cell_type": "code",
   "execution_count": 66,
   "id": "11dd4993",
   "metadata": {},
   "outputs": [],
   "source": [
    "num_of_classes = 2\n",
    "\n",
    "model = keras.Sequential()\n",
    "\n",
    "model.add(keras.layers.Conv2D(32, kernel_size=(3,3), activation='relu', input_shape=(128,128,3)))\n",
    "model.add(keras.layers.MaxPooling2D(pool_size=(2,2)))\n",
    "\n",
    "\n",
    "model.add(keras.layers.Conv2D(64, kernel_size=(3,3), activation='relu'))\n",
    "model.add(keras.layers.MaxPooling2D(pool_size=(2,2)))\n",
    "\n",
    "model.add(keras.layers.Flatten())\n",
    "\n",
    "model.add(keras.layers.Dense(128, activation='relu'))\n",
    "model.add(keras.layers.Dropout(0.5))\n",
    "\n",
    "model.add(keras.layers.Dense(64, activation='relu'))\n",
    "model.add(keras.layers.Dropout(0.5))\n",
    "\n",
    "\n",
    "model.add(keras.layers.Dense(num_of_classes, activation='sigmoid'))"
   ]
  },
  {
   "cell_type": "code",
   "execution_count": 67,
   "id": "747bbb03",
   "metadata": {},
   "outputs": [],
   "source": [
    "# compile the neural network\n",
    "model.compile(optimizer='adam',\n",
    "              loss='sparse_categorical_crossentropy',\n",
    "              metrics=['acc'])"
   ]
  },
  {
   "cell_type": "code",
   "execution_count": 68,
   "id": "ec48bad3",
   "metadata": {},
   "outputs": [
    {
     "name": "stdout",
     "output_type": "stream",
     "text": [
      "Epoch 1/5\n",
      "170/170 [==============================] - 389s 2s/step - loss: 0.4533 - acc: 0.7997 - val_loss: 0.2748 - val_acc: 0.8909\n",
      "Epoch 2/5\n",
      "170/170 [==============================] - 301s 2s/step - loss: 0.2841 - acc: 0.8904 - val_loss: 0.1599 - val_acc: 0.9438\n",
      "Epoch 3/5\n",
      "170/170 [==============================] - 297s 2s/step - loss: 0.2423 - acc: 0.9099 - val_loss: 0.1860 - val_acc: 0.9041\n",
      "Epoch 4/5\n",
      "170/170 [==============================] - 289s 2s/step - loss: 0.1993 - acc: 0.9216 - val_loss: 0.1698 - val_acc: 0.9388\n",
      "Epoch 5/5\n",
      "170/170 [==============================] - 334s 2s/step - loss: 0.1602 - acc: 0.9389 - val_loss: 0.1834 - val_acc: 0.9256\n"
     ]
    }
   ],
   "source": [
    "# training the neural network\n",
    "history = model.fit(x_train_scaled, y_train, validation_split=0.1, epochs=5)"
   ]
  },
  {
   "cell_type": "code",
   "execution_count": 69,
   "id": "316150cf",
   "metadata": {},
   "outputs": [
    {
     "name": "stdout",
     "output_type": "stream",
     "text": [
      "48/48 [==============================] - 25s 464ms/step - loss: 0.2502 - acc: 0.9232\n",
      "Test Accuracy = 0.9232296347618103\n"
     ]
    }
   ],
   "source": [
    "loss, accuracy = model.evaluate(x_test_scaled, y_test)\n",
    "print('Test Accuracy =', accuracy)"
   ]
  },
  {
   "cell_type": "code",
   "execution_count": 70,
   "id": "1b965c10",
   "metadata": {},
   "outputs": [
    {
     "data": {
      "image/png": "[encoded data removed]",
      "text/plain": [
       "<Figure size 640x480 with 1 Axes>"
      ]
     },
     "metadata": {},
     "output_type": "display_data"
    },
    {
     "data": {
      "image/png": "[encoded data removed]",
      "text/plain": [
       "<Figure size 640x480 with 1 Axes>"
      ]
     },
     "metadata": {},
     "output_type": "display_data"
    }
   ],
   "source": [
    "h = history\n",
    "\n",
    "# plot the loss value\n",
    "plt.plot(h.history['loss'], label='train loss')\n",
    "plt.plot(h.history['val_loss'], label='validation loss')\n",
    "plt.legend()\n",
    "plt.show()\n",
    "\n",
    "# plot the accuracy value\n",
    "plt.plot(h.history['acc'], label='train accuracy')\n",
    "plt.plot(h.history['val_acc'], label='validation accuracy')\n",
    "plt.legend()\n",
    "plt.show()\n"
   ]
  },
  {
   "cell_type": "code",
   "execution_count": 74,
   "id": "6198789a",
   "metadata": {},
   "outputs": [
    {
     "name": "stdout",
     "output_type": "stream",
     "text": [
      "Collecting tensorflow-hubNote: you may need to restart the kernel to use updated packages.\n",
      "\n",
      "  Downloading tensorflow_hub-0.14.0-py2.py3-none-any.whl (90 kB)\n",
      "     ---------------------------------------- 90.3/90.3 kB 5.3 MB/s eta 0:00:00\n",
      "Requirement already satisfied: protobuf>=3.19.6 in c:\\users\\vipla\\anaconda3\\lib\\site-packages (from tensorflow-hub) (3.20.3)\n",
      "Requirement already satisfied: numpy>=1.12.0 in c:\\users\\vipla\\anaconda3\\lib\\site-packages (from tensorflow-hub) (1.23.5)\n",
      "Installing collected packages: tensorflow-hub\n",
      "Successfully installed tensorflow-hub-0.14.0\n"
     ]
    }
   ],
   "source": [
    "pip install tensorflow-hub"
   ]
  },
  {
   "cell_type": "code",
   "execution_count": 75,
   "id": "a6ef63de",
   "metadata": {},
   "outputs": [],
   "source": [
    "import tensorflow as tf\n",
    "import tensorflow_hub as hub"
   ]
  },
  {
   "cell_type": "code",
   "execution_count": 76,
   "id": "2dc80c21",
   "metadata": {},
   "outputs": [],
   "source": [
    "mobilenet_model = 'https://tfhub.dev/google/tf2-preview/mobilenet_v2/feature_vector/4'\n",
    "\n",
    "pretrained_model = hub.KerasLayer(mobilenet_model, input_shape=(128, 128, 3), trainable=False)"
   ]
  },
  {
   "cell_type": "code",
   "execution_count": 78,
   "id": "ef589530",
   "metadata": {},
   "outputs": [
    {
     "name": "stdout",
     "output_type": "stream",
     "text": [
      "Model: \"sequential_2\"\n",
      "_________________________________________________________________\n",
      " Layer (type)                Output Shape              Param #   \n",
      "=================================================================\n",
      " lambda (Lambda)             (None, 224, 224, 3)       0         \n",
      "                                                                 \n",
      " keras_layer_1 (KerasLayer)  (None, 1280)              2257984   \n",
      "                                                                 \n",
      " dense_6 (Dense)             (None, 2)                 2562      \n",
      "                                                                 \n",
      "=================================================================\n",
      "Total params: 2,260,546\n",
      "Trainable params: 2,562\n",
      "Non-trainable params: 2,257,984\n",
      "_________________________________________________________________\n"
     ]
    }
   ],
   "source": [
    "import tensorflow as tf\n",
    "import tensorflow_hub as hub\n",
    "\n",
    "num_of_classes = 2\n",
    "\n",
    "pretrained_model = hub.KerasLayer(\"https://tfhub.dev/google/imagenet/mobilenet_v2_100_224/feature_vector/5\")\n",
    "\n",
    "model = tf.keras.Sequential([\n",
    "    tf.keras.layers.InputLayer(input_shape=(128, 128, 3)),\n",
    "    tf.keras.layers.Lambda(lambda x: tf.image.resize(x, (224, 224))),\n",
    "    pretrained_model,\n",
    "    tf.keras.layers.Dense(num_of_classes)\n",
    "])\n",
    "\n",
    "model.summary()"
   ]
  },
  {
   "cell_type": "code",
   "execution_count": 79,
   "id": "9465d644",
   "metadata": {},
   "outputs": [],
   "source": [
    "model.compile(\n",
    "    optimizer = 'adam',\n",
    "    loss = tf.keras.losses.SparseCategoricalCrossentropy(from_logits=True),\n",
    "    metrics = ['acc']\n",
    ")"
   ]
  },
  {
   "cell_type": "code",
   "execution_count": 80,
   "id": "fc90e078",
   "metadata": {},
   "outputs": [
    {
     "name": "stdout",
     "output_type": "stream",
     "text": [
      "Epoch 1/5\n",
      "189/189 [==============================] - 427s 2s/step - loss: 0.0683 - acc: 0.9791\n",
      "Epoch 2/5\n",
      "189/189 [==============================] - 399s 2s/step - loss: 0.0236 - acc: 0.9934\n",
      "Epoch 3/5\n",
      "189/189 [==============================] - 289s 2s/step - loss: 0.0193 - acc: 0.9939\n",
      "Epoch 4/5\n",
      "189/189 [==============================] - 261s 1s/step - loss: 0.0142 - acc: 0.9967\n",
      "Epoch 5/5\n",
      "189/189 [==============================] - 278s 1s/step - loss: 0.0112 - acc: 0.9974\n"
     ]
    },
    {
     "data": {
      "text/plain": [
       "<keras.callbacks.History at 0x21f5d18dff0>"
      ]
     },
     "execution_count": 80,
     "metadata": {},
     "output_type": "execute_result"
    }
   ],
   "source": [
    "model.fit(x_train_scaled, y_train, epochs=5)"
   ]
  },
  {
   "cell_type": "code",
   "execution_count": 81,
   "id": "8eb4f9d4",
   "metadata": {},
   "outputs": [
    {
     "name": "stdout",
     "output_type": "stream",
     "text": [
      "48/48 [==============================] - 82s 2s/step - loss: 0.0190 - acc: 0.9947\n",
      "Test Loss =0.01900048367679119\n",
      "Test Accuracy =0.9947054982185364\n"
     ]
    }
   ],
   "source": [
    "score, acc = model.evaluate(x_test_scaled, y_test)\n",
    "print(f'Test Loss ={score}')\n",
    "print(f'Test Accuracy ={acc}')"
   ]
  },
  {
   "cell_type": "code",
   "execution_count": null,
   "id": "ee3e7df0",
   "metadata": {},
   "outputs": [],
   "source": []
  }
 ],
 "metadata": {
  "kernelspec": {
   "display_name": "Python 3 (ipykernel)",
   "language": "python",
   "name": "python3"
  },
  "language_info": {
   "codemirror_mode": {
    "name": "ipython",
    "version": 3
   },
   "file_extension": ".py",
   "mimetype": "text/x-python",
   "name": "python",
   "nbconvert_exporter": "python",
   "pygments_lexer": "ipython3",
   "version": "3.10.9"
  }
 },
 "nbformat": 4,
 "nbformat_minor": 5
}
